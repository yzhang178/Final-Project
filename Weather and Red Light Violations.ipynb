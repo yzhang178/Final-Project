{
 "cells": [
  {
   "cell_type": "markdown",
   "metadata": {},
   "source": [
    "# Weather and Red Light Violations\n",
    "\n",
    "## The Question\n",
    "\n",
    "We explored the data of red light violations in the last 3 years in Chicago with 3 assumptions:\n",
    "1) There are more violations during holidays\n",
    "2) There are more violations after Cubs' win\n",
    "3) Weather influences the number of violations\n",
    "\n"
   ]
  }
 ],
 "metadata": {
  "kernelspec": {
   "display_name": "Python 3",
   "language": "python",
   "name": "python3"
  },
  "language_info": {
   "codemirror_mode": {
    "name": "ipython",
    "version": 3
   },
   "file_extension": ".py",
   "mimetype": "text/x-python",
   "name": "python",
   "nbconvert_exporter": "python",
   "pygments_lexer": "ipython3",
   "version": "3.6.2"
  }
 },
 "nbformat": 4,
 "nbformat_minor": 2
}
