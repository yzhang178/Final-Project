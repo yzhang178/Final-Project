{
 "cells": [
  {
   "cell_type": "markdown",
   "metadata": {},
   "source": [
    "# Weather and Red Light Violations\n",
    "\n",
    "## The Question\n",
    "\n",
    "We explored the data of red light violations in the last 3 years in Chicago with 3 assumptions:\n",
    "1) There are more violations during holidays;\n",
    "2) There are more violations after Cubs' win;\n",
    "3) Weather influences the number of violations.\n",
    "\n",
    "After close examination, we reject the first two but see a clear seasonal variation in the red light violations. We continued our research with a regression between the violation numbers and the temperature and precipitation. There is no significant relationship between the violation ad precipitation, but with the temperature rising, the red light violation number will also increase.\n",
    "\n",
    "## Data\n",
    "\n",
    "### Red Light Violations\n",
    "\n",
    "We used the [red light violations data](https://data.cityofchicago.org/Transportation/Red-Light-Camera-Violations/spqx-js37/data) from the Chicago City Portal. It provides us with the ID and address of the red light cameras, the date of violations and also the number of violations during the last 3 years. \n",
    "\n",
    "We transformed the address of the cameras to zip-codes using ArcMAP for further analysis.\n",
    "\n",
    "### Weather\n",
    "\n",
    "We used the [weather underground API](https://www.wunderground.com/weather/api/) to inform us everyday temperature and precipitation in Chicago.\n",
    "\n",
    "## Investigation\n",
    "\n",
    "All analysis code for this project can be accessed [here]().\n",
    "\n",
    "### Comparison of holidays and non-holidays\n",
    "\n",
    "\n",
    "\n",
    "\n"
   ]
  }
 ],
 "metadata": {
  "kernelspec": {
   "display_name": "Python 3",
   "language": "python",
   "name": "python3"
  },
  "language_info": {
   "codemirror_mode": {
    "name": "ipython",
    "version": 3
   },
   "file_extension": ".py",
   "mimetype": "text/x-python",
   "name": "python",
   "nbconvert_exporter": "python",
   "pygments_lexer": "ipython3",
   "version": "3.6.2"
  }
 },
 "nbformat": 4,
 "nbformat_minor": 2
}
